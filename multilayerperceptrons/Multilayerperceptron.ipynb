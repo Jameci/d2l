{
 "cells": [
  {
   "cell_type": "code",
   "execution_count": 29,
   "metadata": {},
   "outputs": [
    {
     "name": "stdout",
     "output_type": "stream",
     "text": [
      "/home/xiangyu/kaggle/d2l/multilayerperceptrons/data/fashion-mnist_test.csv\n",
      "/home/xiangyu/kaggle/d2l/multilayerperceptrons/data/t10k-images-idx3-ubyte\n",
      "/home/xiangyu/kaggle/d2l/multilayerperceptrons/data/fashion-mnist_train.csv\n",
      "/home/xiangyu/kaggle/d2l/multilayerperceptrons/data/train-images-idx3-ubyte\n",
      "/home/xiangyu/kaggle/d2l/multilayerperceptrons/data/t10k-labels-idx1-ubyte\n",
      "/home/xiangyu/kaggle/d2l/multilayerperceptrons/data/train-labels-idx1-ubyte\n"
     ]
    }
   ],
   "source": [
    "import numpy as np\n",
    "import pandas as pd\n",
    "\n",
    "import os\n",
    "datapath = \"/home/xiangyu/kaggle/d2l/multilayerperceptrons/data\"\n",
    "for dirname, _, filenames in os.walk(datapath):\n",
    "    for filename in filenames:\n",
    "        print(os.path.join(dirname, filename))\n",
    "        "
   ]
  },
  {
   "cell_type": "code",
   "execution_count": 30,
   "metadata": {},
   "outputs": [],
   "source": [
    "train = pd.read_csv(os.path.join(datapath, \"fashion-mnist_train.csv\"))\n",
    "test = pd.read_csv(os.path.join(datapath, \"fashion-mnist_test.csv\"))"
   ]
  },
  {
   "cell_type": "code",
   "execution_count": 31,
   "metadata": {},
   "outputs": [],
   "source": [
    "label_names = {\n",
    "    0: 'T-shirt/top',\n",
    "    1: 'Trouser',\n",
    "    2: 'Pullover',\n",
    "    3: 'Dress',\n",
    "    4: 'Coat',\n",
    "    5: 'Sandal',\n",
    "    6: 'Shirt',\n",
    "    7: 'Sneaker',\n",
    "    8: 'Bag',\n",
    "    9: 'Ankle boot'\n",
    "}"
   ]
  },
  {
   "cell_type": "code",
   "execution_count": 32,
   "metadata": {},
   "outputs": [],
   "source": [
    "import torch\n",
    "from torch import nn\n",
    "from torch.utils.data import Dataset, DataLoader\n",
    "import matplotlib.pyplot as plt"
   ]
  },
  {
   "cell_type": "code",
   "execution_count": 33,
   "metadata": {},
   "outputs": [],
   "source": [
    "device = 'cuda:0'\n",
    "batch_size = 128\n",
    "epoch = 50"
   ]
  },
  {
   "cell_type": "code",
   "execution_count": 34,
   "metadata": {},
   "outputs": [],
   "source": [
    "class FashionDataset(Dataset):\n",
    "    def __init__(self, device, dataset:pd.DataFrame):\n",
    "        super(Dataset, self).__init__()\n",
    "        self.x = torch.tensor(dataset.drop(['label'], axis=1).values, dtype=torch.float32).to(device)\n",
    "        self.y = torch.tensor(dataset['label'].values).to(device)\n",
    "    \n",
    "    def __getitem__(self, index):\n",
    "        return self.x[index], self.y[index]\n",
    "    \n",
    "    def __len__(self):\n",
    "        return len(self.x)"
   ]
  },
  {
   "cell_type": "code",
   "execution_count": 35,
   "metadata": {},
   "outputs": [],
   "source": [
    "trainset = FashionDataset(device=device, dataset=train)\n",
    "testset = FashionDataset(device=device, dataset=test)\n",
    "trainloader = DataLoader(trainset, batch_size=batch_size, shuffle=True)\n",
    "testloader = DataLoader(testset, batch_size=batch_size)"
   ]
  },
  {
   "cell_type": "code",
   "execution_count": 36,
   "metadata": {},
   "outputs": [],
   "source": [
    "class Model(nn.Module):\n",
    "    def __init__(self, input, hidden, output, dropout):\n",
    "        super(Model, self).__init__()\n",
    "        self.net = nn.Sequential(\n",
    "            nn.Linear(input, hidden), \n",
    "            nn.ReLU(), \n",
    "            nn.Dropout(dropout), \n",
    "            nn.Linear(hidden, hidden), \n",
    "            nn.ReLU(), \n",
    "            nn.Dropout(dropout), \n",
    "            nn.Linear(hidden, output), \n",
    "        )\n",
    "\n",
    "    def forward(self, x):\n",
    "        return self.net(x)"
   ]
  },
  {
   "cell_type": "code",
   "execution_count": 37,
   "metadata": {},
   "outputs": [],
   "source": [
    "class Trainer:\n",
    "    def __init__(self, model, optimizer, criterion):\n",
    "        self.model = model\n",
    "        self.optimizer = optimizer\n",
    "        self.criterion = criterion\n",
    "\n",
    "    def train(self, num_epoch, trainloader, testloader):\n",
    "        trainloss = []\n",
    "        testloss = []\n",
    "        for i in range(num_epoch):\n",
    "            loss = self.train_epoch(trainloader)\n",
    "            print(f'training {i} epoch: loss is {loss}')\n",
    "            trainloss.append(loss)\n",
    "            acc = self.test(testloader)\n",
    "            print(f'test acc rate {acc}')\n",
    "            testloss.append(acc)\n",
    "        plt.plot(trainloss, label='train_loss')\n",
    "        plt.plot(testloss, label='test_acc')\n",
    "        plt.ylim(0, 1)\n",
    "        plt.xlabel('epoch')\n",
    "        plt.ylabel('loss/acc')\n",
    "        plt.legend()\n",
    "        plt.show()\n",
    "\n",
    "    def train_epoch(self, dataloader):\n",
    "        total_loss = 0.0\n",
    "        for x, y in dataloader:\n",
    "            total_loss += self.train_step(x, y)\n",
    "        return total_loss / len(dataloader)\n",
    "\n",
    "    def train_step(self, inputs, targets):\n",
    "        self.model.train()\n",
    "        self.optimizer.zero_grad()\n",
    "        outputs = self.model(inputs)\n",
    "        loss = self.criterion(outputs, targets)\n",
    "        loss.backward()\n",
    "        self.optimizer.step()\n",
    "        return loss.item()\n",
    "    \n",
    "    def test(self, dataloader):\n",
    "        total_acc = 0.0\n",
    "        for x, y in dataloader:\n",
    "            total_acc += self.test_step(x, y)\n",
    "        return total_acc / len(dataloader)\n",
    "    \n",
    "    def test_step(self, inputs, targets):\n",
    "        self.model.eval()\n",
    "        outputs = self.model(inputs)\n",
    "        argmax = torch.argmax(outputs, dim=-1)\n",
    "        return (torch.sum(argmax == targets) / len(targets)).item()"
   ]
  },
  {
   "cell_type": "code",
   "execution_count": 38,
   "metadata": {},
   "outputs": [],
   "source": [
    "model = Model(784, 2048, len(label_names), 0.5).to(device)\n",
    "optimizer = torch.optim.SGD(model.parameters(), 0.001)\n",
    "criterion = nn.CrossEntropyLoss()\n",
    "trainer = Trainer(model, optimizer, criterion)"
   ]
  },
  {
   "cell_type": "code",
   "execution_count": 39,
   "metadata": {},
   "outputs": [
    {
     "name": "stdout",
     "output_type": "stream",
     "text": [
      "training 0 epoch: loss is 2.281925835398469\n",
      "test acc rate 0.8318829113924051\n",
      "training 1 epoch: loss is 0.6977690633680267\n",
      "test acc rate 0.8320806962025317\n",
      "training 2 epoch: loss is 0.5944862068334876\n",
      "test acc rate 0.8562104430379747\n",
      "training 3 epoch: loss is 0.5403551601016445\n",
      "test acc rate 0.8566060126582279\n",
      "training 4 epoch: loss is 0.5074883831589461\n",
      "test acc rate 0.8594738924050633\n",
      "training 5 epoch: loss is 0.4827405242269227\n",
      "test acc rate 0.8644185126582279\n",
      "training 6 epoch: loss is 0.4643358484641321\n",
      "test acc rate 0.8679786392405063\n",
      "training 7 epoch: loss is 0.4524272476940521\n",
      "test acc rate 0.8707476265822784\n",
      "training 8 epoch: loss is 0.43826906923164943\n",
      "test acc rate 0.875\n",
      "training 9 epoch: loss is 0.42913601749233093\n",
      "test acc rate 0.875692246835443\n",
      "training 10 epoch: loss is 0.419853911947594\n",
      "test acc rate 0.8730221518987342\n",
      "training 11 epoch: loss is 0.4128252302469221\n",
      "test acc rate 0.8757911392405063\n",
      "training 12 epoch: loss is 0.4056470104372069\n",
      "test acc rate 0.8762856012658228\n",
      "training 13 epoch: loss is 0.39523913433302693\n",
      "test acc rate 0.8784612341772152\n",
      "training 14 epoch: loss is 0.3900331182202805\n",
      "test acc rate 0.8801424050632911\n",
      "training 15 epoch: loss is 0.383688216238642\n",
      "test acc rate 0.8815268987341772\n",
      "training 16 epoch: loss is 0.3763218667588508\n",
      "test acc rate 0.8859770569620253\n",
      "training 17 epoch: loss is 0.3765196469801067\n",
      "test acc rate 0.8832080696202531\n",
      "training 18 epoch: loss is 0.36899326983164116\n",
      "test acc rate 0.8852848101265823\n",
      "training 19 epoch: loss is 0.3653495185919154\n",
      "test acc rate 0.8848892405063291\n",
      "training 20 epoch: loss is 0.36071907746385157\n",
      "test acc rate 0.885878164556962\n",
      "training 21 epoch: loss is 0.3556847107181671\n",
      "test acc rate 0.887559335443038\n",
      "training 22 epoch: loss is 0.35189064438027867\n",
      "test acc rate 0.8831091772151899\n",
      "training 23 epoch: loss is 0.3482075794609879\n",
      "test acc rate 0.8883504746835443\n",
      "training 24 epoch: loss is 0.343494364733635\n",
      "test acc rate 0.8870648734177216\n",
      "training 25 epoch: loss is 0.34235914258052036\n",
      "test acc rate 0.8876582278481012\n",
      "training 26 epoch: loss is 0.34074469600150836\n",
      "test acc rate 0.8891416139240507\n",
      "training 27 epoch: loss is 0.3335326304440814\n",
      "test acc rate 0.8885482594936709\n",
      "training 28 epoch: loss is 0.3317850004635386\n",
      "test acc rate 0.8886471518987342\n",
      "training 29 epoch: loss is 0.33265375655724294\n",
      "test acc rate 0.8915150316455697\n",
      "training 30 epoch: loss is 0.3287023614083272\n",
      "test acc rate 0.8891416139240507\n",
      "training 31 epoch: loss is 0.32373712464436283\n",
      "test acc rate 0.8917128164556962\n",
      "training 32 epoch: loss is 0.32070069955483177\n",
      "test acc rate 0.8908227848101266\n",
      "training 33 epoch: loss is 0.3200835585911899\n",
      "test acc rate 0.8914161392405063\n",
      "training 34 epoch: loss is 0.3184942376893212\n",
      "test acc rate 0.8909216772151899\n",
      "training 35 epoch: loss is 0.31616294148888413\n",
      "test acc rate 0.8916139240506329\n",
      "training 36 epoch: loss is 0.3114954625238488\n",
      "test acc rate 0.8908227848101266\n",
      "training 37 epoch: loss is 0.3073709126728684\n",
      "test acc rate 0.8944818037974683\n",
      "training 38 epoch: loss is 0.3054667353820699\n",
      "test acc rate 0.8934928797468354\n",
      "training 39 epoch: loss is 0.3045994821451366\n",
      "test acc rate 0.8938884493670886\n",
      "training 40 epoch: loss is 0.30249463854186825\n",
      "test acc rate 0.8937895569620253\n",
      "training 41 epoch: loss is 0.3008506249771444\n",
      "test acc rate 0.8950751582278481\n",
      "training 42 epoch: loss is 0.2964194451949235\n",
      "test acc rate 0.8945806962025317\n",
      "training 43 epoch: loss is 0.29633334466516337\n",
      "test acc rate 0.8952729430379747\n",
      "training 44 epoch: loss is 0.2945337251686592\n",
      "test acc rate 0.8938884493670886\n",
      "training 45 epoch: loss is 0.2917372058513068\n",
      "test acc rate 0.893690664556962\n",
      "training 46 epoch: loss is 0.29413426249647445\n",
      "test acc rate 0.8954707278481012\n",
      "training 47 epoch: loss is 0.2880802489737712\n",
      "test acc rate 0.893690664556962\n",
      "training 48 epoch: loss is 0.28513778253659\n",
      "test acc rate 0.8975474683544303\n",
      "training 49 epoch: loss is 0.2844799562557928\n",
      "test acc rate 0.896756329113924\n"
     ]
    },
    {
     "data": {
      "image/png": "[encoded data removed]",
      "text/plain": [
       "<Figure size 432x288 with 1 Axes>"
      ]
     },
     "metadata": {
      "needs_background": "light"
     },
     "output_type": "display_data"
    }
   ],
   "source": [
    "#Todo: 使用animation进行图的实时更新\n",
    "trainer.train(num_epoch=epoch, trainloader=trainloader, testloader=testloader)"
   ]
  },
  {
   "cell_type": "code",
   "execution_count": 40,
   "metadata": {},
   "outputs": [],
   "source": [
    "hidden_num = [8, 10, 12, 14, 16, 32, 64, 128, 256, 512, 1024, 2048]\n",
    "acc = [0.307, 0.334, 0.734, 0.774, 0.829, 0.813, 0.862, 0.866, 0.860, 0.865, 0.869, 0.866]"
   ]
  }
 ],
 "metadata": {
  "kernelspec": {
   "display_name": "test",
   "language": "python",
   "name": "python3"
  },
  "language_info": {
   "codemirror_mode": {
    "name": "ipython",
    "version": 3
   },
   "file_extension": ".py",
   "mimetype": "text/x-python",
   "name": "python",
   "nbconvert_exporter": "python",
   "pygments_lexer": "ipython3",
   "version": "3.9.0"
  },
  "orig_nbformat": 4
 },
 "nbformat": 4,
 "nbformat_minor": 2
}
